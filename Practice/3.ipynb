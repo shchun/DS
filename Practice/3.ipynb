{
 "cells": [
  {
   "cell_type": "markdown",
   "id": "9dd0d4a1",
   "metadata": {},
   "source": [
    "## 내 집 마련을 위해, 서울 아파트 매물 데이터를 이용하여 구매 전략을 세우고자 한다."
   ]
  },
  {
   "cell_type": "markdown",
   "id": "7e3f7408",
   "metadata": {},
   "source": [
    "real_estate.csv\n",
    "\n",
    "|컬럼|정의|type|\n",
    "|:---|:---|:---:|\n",
    "|latitude|위도|float64|\n",
    "|longitude|경도|float64|\n",
    "|price_per_square_py|평당가|float64|\n",
    "|py|평수|int64|\n",
    "|apt_code|시공사 코드(길이5 알파벳 대문자)|object|\n",
    "|dist_from_station|인근 지하철역과의 거리|float64|  \n",
    "\n",
    "정답 및 해설 : https://tjd229.tistory.com/22"
   ]
  },
  {
   "cell_type": "code",
   "execution_count": 1,
   "id": "0a87c9cd",
   "metadata": {},
   "outputs": [
    {
     "data": {
      "text/html": [
       "<div>\n",
       "<style scoped>\n",
       "    .dataframe tbody tr th:only-of-type {\n",
       "        vertical-align: middle;\n",
       "    }\n",
       "\n",
       "    .dataframe tbody tr th {\n",
       "        vertical-align: top;\n",
       "    }\n",
       "\n",
       "    .dataframe thead th {\n",
       "        text-align: right;\n",
       "    }\n",
       "</style>\n",
       "<table border=\"1\" class=\"dataframe\">\n",
       "  <thead>\n",
       "    <tr style=\"text-align: right;\">\n",
       "      <th></th>\n",
       "      <th>latitude</th>\n",
       "      <th>longitude</th>\n",
       "      <th>price_per_square_py</th>\n",
       "      <th>py</th>\n",
       "      <th>apt_code</th>\n",
       "      <th>dist_from_station</th>\n",
       "    </tr>\n",
       "  </thead>\n",
       "  <tbody>\n",
       "    <tr>\n",
       "      <th>0</th>\n",
       "      <td>37.125541</td>\n",
       "      <td>126.913776</td>\n",
       "      <td>2860.053787</td>\n",
       "      <td>24</td>\n",
       "      <td>GEDAE</td>\n",
       "      <td>1588.406226</td>\n",
       "    </tr>\n",
       "    <tr>\n",
       "      <th>1</th>\n",
       "      <td>37.223169</td>\n",
       "      <td>127.026913</td>\n",
       "      <td>1715.073163</td>\n",
       "      <td>59</td>\n",
       "      <td>IHEAD</td>\n",
       "      <td>986.146800</td>\n",
       "    </tr>\n",
       "    <tr>\n",
       "      <th>2</th>\n",
       "      <td>37.239029</td>\n",
       "      <td>126.906303</td>\n",
       "      <td>1780.604630</td>\n",
       "      <td>57</td>\n",
       "      <td>FHIBJ</td>\n",
       "      <td>1492.514512</td>\n",
       "    </tr>\n",
       "    <tr>\n",
       "      <th>3</th>\n",
       "      <td>37.274433</td>\n",
       "      <td>126.737771</td>\n",
       "      <td>1508.814336</td>\n",
       "      <td>42</td>\n",
       "      <td>JBCIJ</td>\n",
       "      <td>1621.602866</td>\n",
       "    </tr>\n",
       "    <tr>\n",
       "      <th>4</th>\n",
       "      <td>37.082670</td>\n",
       "      <td>127.143634</td>\n",
       "      <td>2933.930488</td>\n",
       "      <td>32</td>\n",
       "      <td>EDJCI</td>\n",
       "      <td>945.034519</td>\n",
       "    </tr>\n",
       "    <tr>\n",
       "      <th>...</th>\n",
       "      <td>...</td>\n",
       "      <td>...</td>\n",
       "      <td>...</td>\n",
       "      <td>...</td>\n",
       "      <td>...</td>\n",
       "      <td>...</td>\n",
       "    </tr>\n",
       "    <tr>\n",
       "      <th>772</th>\n",
       "      <td>37.161852</td>\n",
       "      <td>126.917406</td>\n",
       "      <td>3564.856667</td>\n",
       "      <td>40</td>\n",
       "      <td>IHEAD</td>\n",
       "      <td>1593.663253</td>\n",
       "    </tr>\n",
       "    <tr>\n",
       "      <th>773</th>\n",
       "      <td>37.288945</td>\n",
       "      <td>127.118062</td>\n",
       "      <td>3072.810919</td>\n",
       "      <td>24</td>\n",
       "      <td>GBDGG</td>\n",
       "      <td>1803.257080</td>\n",
       "    </tr>\n",
       "    <tr>\n",
       "      <th>774</th>\n",
       "      <td>37.234408</td>\n",
       "      <td>126.745186</td>\n",
       "      <td>2491.714188</td>\n",
       "      <td>61</td>\n",
       "      <td>EJAIA</td>\n",
       "      <td>1346.821965</td>\n",
       "    </tr>\n",
       "    <tr>\n",
       "      <th>775</th>\n",
       "      <td>37.294494</td>\n",
       "      <td>127.185185</td>\n",
       "      <td>1746.372819</td>\n",
       "      <td>40</td>\n",
       "      <td>EGFBJ</td>\n",
       "      <td>1461.672552</td>\n",
       "    </tr>\n",
       "    <tr>\n",
       "      <th>776</th>\n",
       "      <td>37.004345</td>\n",
       "      <td>127.107611</td>\n",
       "      <td>1667.553347</td>\n",
       "      <td>32</td>\n",
       "      <td>EHCAD</td>\n",
       "      <td>1377.100866</td>\n",
       "    </tr>\n",
       "  </tbody>\n",
       "</table>\n",
       "<p>777 rows × 6 columns</p>\n",
       "</div>"
      ],
      "text/plain": [
       "      latitude   longitude  price_per_square_py  py apt_code  \\\n",
       "0    37.125541  126.913776          2860.053787  24    GEDAE   \n",
       "1    37.223169  127.026913          1715.073163  59    IHEAD   \n",
       "2    37.239029  126.906303          1780.604630  57    FHIBJ   \n",
       "3    37.274433  126.737771          1508.814336  42    JBCIJ   \n",
       "4    37.082670  127.143634          2933.930488  32    EDJCI   \n",
       "..         ...         ...                  ...  ..      ...   \n",
       "772  37.161852  126.917406          3564.856667  40    IHEAD   \n",
       "773  37.288945  127.118062          3072.810919  24    GBDGG   \n",
       "774  37.234408  126.745186          2491.714188  61    EJAIA   \n",
       "775  37.294494  127.185185          1746.372819  40    EGFBJ   \n",
       "776  37.004345  127.107611          1667.553347  32    EHCAD   \n",
       "\n",
       "     dist_from_station  \n",
       "0          1588.406226  \n",
       "1           986.146800  \n",
       "2          1492.514512  \n",
       "3          1621.602866  \n",
       "4           945.034519  \n",
       "..                 ...  \n",
       "772        1593.663253  \n",
       "773        1803.257080  \n",
       "774        1346.821965  \n",
       "775        1461.672552  \n",
       "776        1377.100866  \n",
       "\n",
       "[777 rows x 6 columns]"
      ]
     },
     "execution_count": 1,
     "metadata": {},
     "output_type": "execute_result"
    }
   ],
   "source": [
    "import numpy as np\n",
    "import pandas as pd\n",
    "\n",
    "df = pd.read_csv(\"../Dataset/real_estate.csv\")\n",
    "df"
   ]
  },
  {
   "cell_type": "markdown",
   "id": "b9665581",
   "metadata": {},
   "source": [
    "### Q1. 시공사별 아파트 평수의 평균을 구하려고 한다. 다음 단계에 따라 분석을 수행하고 질문에 답하시오.\n",
    "\n",
    "단계 1 : 데이터의 첫 번째 행부터 열 번째 행까지의 시공사 코드(apt_code) 리스트를 저장한다. 첫 번째 행의 데이터는 위도, 경도, 평당가, 평수, 시공사 코드, 인근 지하철역과의 거리가 각각 37.125541, 126.913776, 2860.053787, 24, GEDAE, 1588.406226이다.  \n",
    "단계 2 : 시공사 코드(apt_code)가 단계 1에서 구한 리스트에 포함되어 있는 데이터를 전부 제거한다.  \n",
    "단계 3 : 시공사 코드(apt_code)별 평수 평균을 구하고 그 중 가장 큰 값을 구하시오  \n",
    "\n",
    "※ 정답은 반올림하여 소수점 둘째 자리까지 출력하시오.\n",
    "(정답 예시: 2.29)"
   ]
  },
  {
   "cell_type": "code",
   "execution_count": 17,
   "id": "9f0afb95",
   "metadata": {},
   "outputs": [
    {
     "name": "stdout",
     "output_type": "stream",
     "text": [
      "(777, 6)\n",
      "['GEDAE', 'IHEAD', 'FHIBJ', 'JBCIJ', 'EDJCI', 'EHCAD', 'HEBIA', 'HEBIA', 'IIGFI', 'FHIBJ', 'GBDGG']\n"
     ]
    },
    {
     "name": "stderr",
     "output_type": "stream",
     "text": [
      "/tmp/ipykernel_67269/3095724469.py:10: FutureWarning: Series.__getitem__ treating keys as positions is deprecated. In a future version, integer keys will always be treated as labels (consistent with DataFrame behavior). To access a value by position, use `ser.iloc[pos]`\n",
      "  round(g1[0],2)\n"
     ]
    },
    {
     "data": {
      "text/plain": [
       "38.63"
      ]
     },
     "execution_count": 17,
     "metadata": {},
     "output_type": "execute_result"
    }
   ],
   "source": [
    "df1 = df.copy()\n",
    "\n",
    "aptlist = df1.loc[:10,'apt_code'].to_list()\n",
    "print(df1.shape)\n",
    "print(aptlist)\n",
    "\n",
    "df1_1 = df1.loc[~df1['apt_code'].isin(aptlist)].copy()\n",
    "\n",
    "g1 = df1_1.groupby('apt_code')['py'].mean().sort_values(ascending=False)\n",
    "round(g1[0],2)\n",
    "#\n",
    "# print(df1_1.shape)"
   ]
  },
  {
   "cell_type": "markdown",
   "id": "3ae2a4b2",
   "metadata": {},
   "source": [
    "### Q2. 아파트 매물을 분석하기 위해 군집화를 하려고 한다. 다음 단계에 따라 분석을 수행하고 질문에 답하시오.\n",
    "\n",
    "\n",
    "단계 1 : 독립 변수들에 대해 K-means 군집 분석을 수행한다. 이 때, 군집 수는 2~9개 중 K-means Silhouette 를 통해 구하고, 이 중 첫번째로 높은 score를 최적의 K로 설정한다.  \n",
    "            - 독립 변수(총 5개) : 시공사 코드(apt_code)를 제외한 모든 컬럼  \n",
    "\n",
    "단계 2 : 단계 1에서 최적의 K로 도출한 각 군집의 비율 중, 가장 큰 값을 구하시오  \n",
    "\n",
    "※ 정답은 올림하여 소수점 둘째 자리까지 출력하시오.\n",
    "(정답 예시: 2.29)"
   ]
  },
  {
   "cell_type": "code",
   "execution_count": 37,
   "id": "5f75991b",
   "metadata": {},
   "outputs": [
    {
     "name": "stderr",
     "output_type": "stream",
     "text": [
      "/home/codespace/.local/lib/python3.10/site-packages/sklearn/cluster/_kmeans.py:1416: FutureWarning: The default value of `n_init` will change from 10 to 'auto' in 1.4. Set the value of `n_init` explicitly to suppress the warning\n",
      "  super()._check_params_vs_input(X, default_n_init=10)\n",
      "/home/codespace/.local/lib/python3.10/site-packages/sklearn/cluster/_kmeans.py:1416: FutureWarning: The default value of `n_init` will change from 10 to 'auto' in 1.4. Set the value of `n_init` explicitly to suppress the warning\n",
      "  super()._check_params_vs_input(X, default_n_init=10)\n",
      "/home/codespace/.local/lib/python3.10/site-packages/sklearn/cluster/_kmeans.py:1416: FutureWarning: The default value of `n_init` will change from 10 to 'auto' in 1.4. Set the value of `n_init` explicitly to suppress the warning\n",
      "  super()._check_params_vs_input(X, default_n_init=10)\n",
      "/home/codespace/.local/lib/python3.10/site-packages/sklearn/cluster/_kmeans.py:1416: FutureWarning: The default value of `n_init` will change from 10 to 'auto' in 1.4. Set the value of `n_init` explicitly to suppress the warning\n",
      "  super()._check_params_vs_input(X, default_n_init=10)\n",
      "/home/codespace/.local/lib/python3.10/site-packages/sklearn/cluster/_kmeans.py:1416: FutureWarning: The default value of `n_init` will change from 10 to 'auto' in 1.4. Set the value of `n_init` explicitly to suppress the warning\n",
      "  super()._check_params_vs_input(X, default_n_init=10)\n",
      "/home/codespace/.local/lib/python3.10/site-packages/sklearn/cluster/_kmeans.py:1416: FutureWarning: The default value of `n_init` will change from 10 to 'auto' in 1.4. Set the value of `n_init` explicitly to suppress the warning\n",
      "  super()._check_params_vs_input(X, default_n_init=10)\n",
      "/home/codespace/.local/lib/python3.10/site-packages/sklearn/cluster/_kmeans.py:1416: FutureWarning: The default value of `n_init` will change from 10 to 'auto' in 1.4. Set the value of `n_init` explicitly to suppress the warning\n",
      "  super()._check_params_vs_input(X, default_n_init=10)\n"
     ]
    },
    {
     "name": "stdout",
     "output_type": "stream",
     "text": [
      "[(0.6346359247298529, 2), (0.4538787546673407, 4), (0.4488577522242527, 3), (0.4373736588661463, 5), (0.3966923382037754, 9), (0.38519356885972655, 7), (0.3778948124317996, 8), (0.35894077704895794, 6)]\n",
      "K=2\n",
      "0.75\n"
     ]
    },
    {
     "name": "stderr",
     "output_type": "stream",
     "text": [
      "/home/codespace/.local/lib/python3.10/site-packages/sklearn/cluster/_kmeans.py:1416: FutureWarning: The default value of `n_init` will change from 10 to 'auto' in 1.4. Set the value of `n_init` explicitly to suppress the warning\n",
      "  super()._check_params_vs_input(X, default_n_init=10)\n",
      "/home/codespace/.local/lib/python3.10/site-packages/sklearn/cluster/_kmeans.py:1416: FutureWarning: The default value of `n_init` will change from 10 to 'auto' in 1.4. Set the value of `n_init` explicitly to suppress the warning\n",
      "  super()._check_params_vs_input(X, default_n_init=10)\n"
     ]
    }
   ],
   "source": [
    "from sklearn.cluster import KMeans\n",
    "from sklearn.metrics import silhouette_score\n",
    "\n",
    "df2 = df.copy()\n",
    "df2_1 = df2.drop('apt_code', axis=1)\n",
    "\n",
    "res = []\n",
    "for k in range(2,10):\n",
    "  model = KMeans(n_clusters= k, random_state=229)\n",
    "  model.fit(df2_1)\n",
    "  score = silhouette_score(df2_1, model.labels_)\n",
    "  res.append((score, k))\n",
    "\n",
    "res = sorted(res, reverse=True)\n",
    "print(res)\n",
    "K = res[0][1]\n",
    "print(f\"K={K}\")\n",
    "\n",
    "model = KMeans(n_clusters= K, random_state=229)\n",
    "model.fit(df2_1)\n",
    "cls1 = model.labels_.sum()\n",
    "cls1\n",
    "cls2 = len(df2_1) - cls1\n",
    "print(np.ceil(cls2 / len(df2_1)*100) /100)\n",
    "# df2_1['index'] = model.fit(df2_1)\n",
    "# round(df2_1['index'].value_counts(normalize=True).reset_index(drop=True)[0],2)\n",
    "\n",
    "  "
   ]
  },
  {
   "cell_type": "markdown",
   "id": "db0c31dd",
   "metadata": {},
   "source": [
    "#### 필요 라이브러리 함수,클래스 및 설정값 목록  \n",
    "\n",
    "\n",
    "from sklearn.cluster import KMeans  \n",
    "from sklearn.metrics import silhouette_score    \n",
    "random_state = 229  \n",
    "문제 지시 외 Default 값 사용  "
   ]
  },
  {
   "cell_type": "code",
   "execution_count": null,
   "id": "d81a3da1",
   "metadata": {},
   "outputs": [],
   "source": []
  },
  {
   "cell_type": "markdown",
   "id": "d1a65143",
   "metadata": {},
   "source": [
    "### Q3. 아파트 가격을 예측하는 모델을 만드려고 한다. 다음 단계에 따라 분석을 수행하고 질문에 답하시오.\n",
    "\n",
    "단계 1 : 평당가(price_per_square_py)와 평수(py)를 곱하여 실제 가격 변수를 생성한다.  \n",
    "단계 2 : Train Set과 Test Set을 28/30:2/30 비율로 나눈다.  \n",
    "단계 3 : Train Set으로 LinearRegression 모델을 학습하고, Test Set에 적용한다. 이 때, 절편을 포함한 경우와 포함하지 않은 경우 각각에 대하여 수행한다.  \n",
    "            - 독립 변수(총 5개) : 시공사 코드(apt_code)와 총 가격을 제외한 모든 컬럼  \n",
    "            - 종속 변수 : 실제 가격  \n",
    "\n",
    "단계 3에서 학습한 각 모델에 대하여 예측 결과를 아래 정의된 Measure M으로 계산하였을 때 가장 큰 값은?  \n",
    "$$ M = \\biggl(\\frac{1}{n} \\sum_{i=1}^{n}{(y_i - \\hat{y_i})^2}\\biggr), \\quad \\hat{y_i}: 예측값, y_i: 실제값 $$\n",
    "\n",
    "※ 정답은 반올림하여 소수점 둘째 자리까지 출력하시오.\n",
    "(정답 예시: 2.29)"
   ]
  },
  {
   "cell_type": "code",
   "execution_count": 46,
   "id": "c6c279be",
   "metadata": {},
   "outputs": [],
   "source": [
    "from sklearn.linear_model import LinearRegression\n",
    "from sklearn.model_selection import train_test_split\n",
    "\n",
    "df3 = df.copy()\n",
    "\n",
    "df3['total_price'] = df3['price_per_square_py'] * df3['py']\n",
    "\n",
    "\n",
    "trin_st, test_st= train_test_split(df3, test_size=0.0666, random_state=229)\n",
    "\n",
    "model = LinearRegression()\n",
    "# model.fit(X_train, y_train)\n",
    "model.fit(X=trin_st.drop(columns=['total_price','apt_code']), y = trin_st['total_price'])\n",
    "\n",
    "pred = model.predict(X = test_st.drop(columns=['total_price','apt_code']))\n",
    "true = test_st['total_price']\n",
    "res = (((pred - true)**2).mean())\n",
    "\n",
    "\n",
    "#LinearRegression.fit(X_train, y_train, intercept=True)"
   ]
  },
  {
   "cell_type": "code",
   "execution_count": 50,
   "id": "3d1b6f7e",
   "metadata": {},
   "outputs": [
    {
     "data": {
      "text/plain": [
       "19007465.67"
      ]
     },
     "execution_count": 50,
     "metadata": {},
     "output_type": "execute_result"
    }
   ],
   "source": [
    "model = LinearRegression(fit_intercept=False)\n",
    "model.fit(X=trin_st.drop(columns=['total_price','apt_code']), y = trin_st['total_price'])\n",
    "pred = model.predict(X = test_st.drop(columns=['total_price','apt_code']))\n",
    "true = test_st['total_price']\n",
    "res2 = (((pred -true)**2).mean())\n",
    "\n",
    "\n",
    "round(max(res,res2),2)"
   ]
  },
  {
   "cell_type": "markdown",
   "id": "07bd0065",
   "metadata": {},
   "source": [
    "#### 필요 라이브러리 함수,클래스 및 설정값 목록  \n",
    "\n",
    "\n",
    "from sklearn.linear_model import LinearRegression  \n",
    "from sklearn.model_selection import train_test_split  \n",
    "모든 random_state = 229  \n",
    "문제 지시 외 Default 값 사용  "
   ]
  },
  {
   "cell_type": "code",
   "execution_count": null,
   "id": "1947f1b7",
   "metadata": {},
   "outputs": [],
   "source": []
  }
 ],
 "metadata": {
  "kernelspec": {
   "display_name": "Python 3",
   "language": "python",
   "name": "python3"
  },
  "language_info": {
   "codemirror_mode": {
    "name": "ipython",
    "version": 3
   },
   "file_extension": ".py",
   "mimetype": "text/x-python",
   "name": "python",
   "nbconvert_exporter": "python",
   "pygments_lexer": "ipython3",
   "version": "3.10.13"
  }
 },
 "nbformat": 4,
 "nbformat_minor": 5
}
