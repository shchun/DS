{
 "cells": [
  {
   "cell_type": "markdown",
   "id": "b6bb781e",
   "metadata": {},
   "source": [
    "## 학원 규모가 커지면서 시스템을 확장하려 한다. 확장 전 학원의 등록된 학생들의 주요 정보를 파악하려 한다."
   ]
  },
  {
   "cell_type": "markdown",
   "id": "3d916d11",
   "metadata": {},
   "source": [
    "enrollment_info.csv\n",
    "\n",
    "|컬럼|정의|type|\n",
    "|:---|:---|:---:|\n",
    "|enrollment_code|학생 등록 코드(길이6 알파벳 대문자)|object|\n",
    "|gender|여자면 F, 남자면 M|object|\n",
    "|bonus|상점|float64|\n",
    "|penalty|벌점|float64|\n",
    "|school_code|소속 학교 코드|object|  \n",
    "\n",
    "정답 및 해설 : https://tjd229.tistory.com/20"
   ]
  },
  {
   "cell_type": "code",
   "execution_count": 22,
   "id": "2b858d97",
   "metadata": {},
   "outputs": [],
   "source": [
    "import numpy as np\n",
    "import pandas as pd"
   ]
  },
  {
   "cell_type": "code",
   "execution_count": 23,
   "id": "b954913c",
   "metadata": {},
   "outputs": [
    {
     "name": "stdout",
     "output_type": "stream",
     "text": [
      "enrollment_code     object\n",
      "gender              object\n",
      "bonus              float64\n",
      "penalty            float64\n",
      "school_code         object\n",
      "dtype: object\n",
      "(86550, 5)\n"
     ]
    },
    {
     "data": {
      "text/html": [
       "<div>\n",
       "<style scoped>\n",
       "    .dataframe tbody tr th:only-of-type {\n",
       "        vertical-align: middle;\n",
       "    }\n",
       "\n",
       "    .dataframe tbody tr th {\n",
       "        vertical-align: top;\n",
       "    }\n",
       "\n",
       "    .dataframe thead th {\n",
       "        text-align: right;\n",
       "    }\n",
       "</style>\n",
       "<table border=\"1\" class=\"dataframe\">\n",
       "  <thead>\n",
       "    <tr style=\"text-align: right;\">\n",
       "      <th></th>\n",
       "      <th>enrollment_code</th>\n",
       "      <th>gender</th>\n",
       "      <th>bonus</th>\n",
       "      <th>penalty</th>\n",
       "      <th>school_code</th>\n",
       "    </tr>\n",
       "  </thead>\n",
       "  <tbody>\n",
       "    <tr>\n",
       "      <th>0</th>\n",
       "      <td>QEHRNZ</td>\n",
       "      <td>F</td>\n",
       "      <td>0.0</td>\n",
       "      <td>0.0</td>\n",
       "      <td>SWHS</td>\n",
       "    </tr>\n",
       "    <tr>\n",
       "      <th>1</th>\n",
       "      <td>IUGTFR</td>\n",
       "      <td>F</td>\n",
       "      <td>1.6</td>\n",
       "      <td>0.0</td>\n",
       "      <td>PYHS</td>\n",
       "    </tr>\n",
       "    <tr>\n",
       "      <th>2</th>\n",
       "      <td>PWJCQA</td>\n",
       "      <td>M</td>\n",
       "      <td>0.0</td>\n",
       "      <td>0.0</td>\n",
       "      <td>NKHS</td>\n",
       "    </tr>\n",
       "    <tr>\n",
       "      <th>3</th>\n",
       "      <td>ZYFHCX</td>\n",
       "      <td>F</td>\n",
       "      <td>5.5</td>\n",
       "      <td>0.0</td>\n",
       "      <td>NKHS</td>\n",
       "    </tr>\n",
       "    <tr>\n",
       "      <th>4</th>\n",
       "      <td>KIBAHX</td>\n",
       "      <td>M</td>\n",
       "      <td>0.6</td>\n",
       "      <td>0.0</td>\n",
       "      <td>MWHS</td>\n",
       "    </tr>\n",
       "  </tbody>\n",
       "</table>\n",
       "</div>"
      ],
      "text/plain": [
       "  enrollment_code gender  bonus  penalty school_code\n",
       "0          QEHRNZ      F    0.0      0.0        SWHS\n",
       "1          IUGTFR      F    1.6      0.0        PYHS\n",
       "2          PWJCQA      M    0.0      0.0        NKHS\n",
       "3          ZYFHCX      F    5.5      0.0        NKHS\n",
       "4          KIBAHX      M    0.6      0.0        MWHS"
      ]
     },
     "execution_count": 23,
     "metadata": {},
     "output_type": "execute_result"
    }
   ],
   "source": [
    "df = pd.read_csv(\"../Dataset/enrollment_info.csv\")\n",
    "print(df.dtypes)\n",
    "print(df.shape)\n",
    "df.head()"
   ]
  },
  {
   "cell_type": "markdown",
   "id": "29749938",
   "metadata": {},
   "source": [
    "### Q1. 다음 단계에 따라 분석을 수행하고 질문에 답하시오.\n",
    "단계 1 : 각 학생들의 상점(bonus)에서 벌점(penalty)을 뺀 값을 합계 점수로 정의한다.  \n",
    "단계 2 : 각 학교 코드(school_code)별 합계 점수 평균을 구하고, 이 중 3번째로 큰 값을 A라고 한다.  \n",
    "단계 3 : 0미만의 합계 점수는 0으로 변경 후, 각 학교 코드(school_code)별 합계 점수 평균을 구하고, 이 중 3번째로 큰 값을 B라고 한다.  \n",
    "\n",
    "단계 2에서 구한 A와 단계 3에서 구한 B의 절대값 차이를 구하시오  \n",
    "※ 결과는 반올림하여 소수점 첫째 자리까지 기술하시오. (답안예시 : 22.9)\n"
   ]
  },
  {
   "cell_type": "code",
   "execution_count": 24,
   "id": "f8408d1d",
   "metadata": {},
   "outputs": [
    {
     "data": {
      "text/plain": [
       "0.1"
      ]
     },
     "execution_count": 24,
     "metadata": {},
     "output_type": "execute_result"
    }
   ],
   "source": [
    "df1 = df.copy()\n",
    "df1['tot'] = df1['bonus'] - df1['penalty']\n",
    "df1\n",
    "\n",
    "gb1 = df1.groupby('school_code')['tot'].mean().sort_values(ascending = False)\n",
    "\n",
    "A = gb1.iloc[3]\n",
    "A\n",
    "\n",
    "df1['tot'] = df1['tot'].apply(lambda x: 0 if x < 0 else x)\n",
    "df1\n",
    "gb2 = df1.groupby('school_code')['tot'].mean().sort_values(ascending = False)\n",
    "\n",
    "B = gb2.iloc[3]\n",
    "B\n",
    "\n",
    "round(abs(A-B), 1)\n"
   ]
  },
  {
   "cell_type": "markdown",
   "id": "b86b45ec",
   "metadata": {},
   "source": [
    "### Q2. 데이터에는 총 6종류의 학교 코드(school_code)가 있다. 학생들의 등록 코드(enrollment_code)에 학교 코드(school_code)가 포함되어 있는 경우, 시스템에 문제가 발생할 수 있어, 이를 사전에 방지하고자 한다. 등록 코드(enrollment_code)에 학교 코드(school_code)가 포함되어 있는 학생들의 수 총합을 구하시오\n",
    "\n",
    "\n",
    "단계 1 : 6종류의 학교 코드(school_code)를 구한다.  \n",
    "단계 2 : 등록 코드(enrollment_code)에 단계 1에서 구한 6종류의 학교 코드 중 하나가 포함되어 있는 학생 수를 구하시오  \n",
    "\n",
    "※ 학교 코드(school_code)가 **ZXCV**일 때, 등록 코드(enrollment_code)가 **ZXCV**AB, A**ZXCV**B, CD**ZXCV** 등의 경우는 등록 코드(enrollment_code)에 학교 코드(school_code)가 포함되어 있다고 본다.  \n",
    "※ 학교 코드(school_code)가 **ZXCV**일 때, 등록 코드(enrollment_code)가 **ZX**AB**CV**의 경우는 등록 코드(enrollment_code)에 학교 코드(school_code)가 포함되어 있다고 보지 않는다.  \n",
    "\n"
   ]
  },
  {
   "cell_type": "code",
   "execution_count": 25,
   "id": "50280c43",
   "metadata": {},
   "outputs": [
    {
     "name": "stdout",
     "output_type": "stream",
     "text": [
      "3\n"
     ]
    }
   ],
   "source": [
    "df2 = df.copy()\n",
    "\n",
    "school_list = list(df2['school_code'].unique())\n",
    "school_list\n",
    "\n",
    "n_student_list = []\n",
    "\n",
    "# ans = 0;\n",
    "# for sch in school_list:\n",
    "#   mask = df2['enrollment_code'].str.contains(sch)\n",
    "#   ans += sum(mask)\n",
    "# print(ans)\n",
    "\n",
    "ans = 0;\n",
    "masklist = []\n",
    "for sch in school_list:\n",
    "  mask = df2['enrollment_code'].str.contains(sch)\n",
    "  # print(type(mask))\n",
    "  ans += sum(mask)\n",
    "  masklist.append(mask)\n",
    "\n",
    "print(ans)\n",
    "  "
   ]
  },
  {
   "cell_type": "markdown",
   "id": "13ce5d3d",
   "metadata": {},
   "source": [
    "### Q3. 학생들의 학업성취도를 분석하기 위해 군집화를 하려고 한다. 다음 단계에 따라 분석을 수행하고 질문에 답하시오.\n",
    "\n",
    "단계 1 : 등록 코드(enrollment_code)에 'HS'가 포함되어 있지 않은 학생들을 제거한다.  \n",
    "단계 2 : 성별(gender) 컬럼에서 \"M\"을 0, \"F\"를 1로 변환한다.  \n",
    "단계 3 : 독립 변수들에 대해 K-means 군집 분석을 수행한다. 이 때, 군집 수는 2~9개 중 K-means Silhouette 를 통해 구하고, 이 중 두 번째로 높은 score를 최적의 K로 설정한다.  \n",
    "- 독립 변수(총 3개) : 성별(gender), 상점(bonus), 벌점(penalty)  \n",
    "\n",
    "단계 4 : 단계 3에서 최적의 K로 도출한 각 군집에 소속된 학생 수의 비율 중, 가장 큰 값을 구하시오  \n",
    "\n",
    "※ 결과는 반올림하여 소수점 둘째 자리까지 기술하시오. (답안예시 : 2.29)\n",
    "\n"
   ]
  },
  {
   "cell_type": "code",
   "execution_count": 39,
   "id": "74f540f7",
   "metadata": {},
   "outputs": [
    {
     "name": "stderr",
     "output_type": "stream",
     "text": [
      "/tmp/ipykernel_14261/4050022917.py:9: SettingWithCopyWarning: \n",
      "A value is trying to be set on a copy of a slice from a DataFrame.\n",
      "Try using .loc[row_indexer,col_indexer] = value instead\n",
      "\n",
      "See the caveats in the documentation: https://pandas.pydata.org/pandas-docs/stable/user_guide/indexing.html#returning-a-view-versus-a-copy\n",
      "  df3_1['gender'] = df3_1['gender'].apply(lambda x: 1 if x == 'F' else 0)\n",
      "/home/codespace/.local/lib/python3.10/site-packages/sklearn/cluster/_kmeans.py:1416: FutureWarning: The default value of `n_init` will change from 10 to 'auto' in 1.4. Set the value of `n_init` explicitly to suppress the warning\n",
      "  super()._check_params_vs_input(X, default_n_init=10)\n",
      "/home/codespace/.local/lib/python3.10/site-packages/sklearn/cluster/_kmeans.py:1416: FutureWarning: The default value of `n_init` will change from 10 to 'auto' in 1.4. Set the value of `n_init` explicitly to suppress the warning\n",
      "  super()._check_params_vs_input(X, default_n_init=10)\n",
      "/home/codespace/.local/lib/python3.10/site-packages/sklearn/cluster/_kmeans.py:1416: FutureWarning: The default value of `n_init` will change from 10 to 'auto' in 1.4. Set the value of `n_init` explicitly to suppress the warning\n",
      "  super()._check_params_vs_input(X, default_n_init=10)\n",
      "/home/codespace/.local/lib/python3.10/site-packages/sklearn/cluster/_kmeans.py:1416: FutureWarning: The default value of `n_init` will change from 10 to 'auto' in 1.4. Set the value of `n_init` explicitly to suppress the warning\n",
      "  super()._check_params_vs_input(X, default_n_init=10)\n",
      "/home/codespace/.local/lib/python3.10/site-packages/sklearn/cluster/_kmeans.py:1416: FutureWarning: The default value of `n_init` will change from 10 to 'auto' in 1.4. Set the value of `n_init` explicitly to suppress the warning\n",
      "  super()._check_params_vs_input(X, default_n_init=10)\n",
      "/home/codespace/.local/lib/python3.10/site-packages/sklearn/cluster/_kmeans.py:1416: FutureWarning: The default value of `n_init` will change from 10 to 'auto' in 1.4. Set the value of `n_init` explicitly to suppress the warning\n",
      "  super()._check_params_vs_input(X, default_n_init=10)\n",
      "/home/codespace/.local/lib/python3.10/site-packages/sklearn/cluster/_kmeans.py:1416: FutureWarning: The default value of `n_init` will change from 10 to 'auto' in 1.4. Set the value of `n_init` explicitly to suppress the warning\n",
      "  super()._check_params_vs_input(X, default_n_init=10)\n",
      "/home/codespace/.local/lib/python3.10/site-packages/sklearn/cluster/_kmeans.py:1416: FutureWarning: The default value of `n_init` will change from 10 to 'auto' in 1.4. Set the value of `n_init` explicitly to suppress the warning\n",
      "  super()._check_params_vs_input(X, default_n_init=10)\n"
     ]
    },
    {
     "data": {
      "text/html": [
       "<div>\n",
       "<style scoped>\n",
       "    .dataframe tbody tr th:only-of-type {\n",
       "        vertical-align: middle;\n",
       "    }\n",
       "\n",
       "    .dataframe tbody tr th {\n",
       "        vertical-align: top;\n",
       "    }\n",
       "\n",
       "    .dataframe thead th {\n",
       "        text-align: right;\n",
       "    }\n",
       "</style>\n",
       "<table border=\"1\" class=\"dataframe\">\n",
       "  <thead>\n",
       "    <tr style=\"text-align: right;\">\n",
       "      <th></th>\n",
       "      <th>cluster</th>\n",
       "      <th>sco</th>\n",
       "    </tr>\n",
       "  </thead>\n",
       "  <tbody>\n",
       "    <tr>\n",
       "      <th>0</th>\n",
       "      <td>2</td>\n",
       "      <td>0.493727</td>\n",
       "    </tr>\n",
       "    <tr>\n",
       "      <th>1</th>\n",
       "      <td>3</td>\n",
       "      <td>0.404853</td>\n",
       "    </tr>\n",
       "    <tr>\n",
       "      <th>2</th>\n",
       "      <td>4</td>\n",
       "      <td>0.367341</td>\n",
       "    </tr>\n",
       "    <tr>\n",
       "      <th>3</th>\n",
       "      <td>5</td>\n",
       "      <td>0.378767</td>\n",
       "    </tr>\n",
       "    <tr>\n",
       "      <th>4</th>\n",
       "      <td>6</td>\n",
       "      <td>0.377287</td>\n",
       "    </tr>\n",
       "    <tr>\n",
       "      <th>5</th>\n",
       "      <td>7</td>\n",
       "      <td>0.395732</td>\n",
       "    </tr>\n",
       "    <tr>\n",
       "      <th>6</th>\n",
       "      <td>8</td>\n",
       "      <td>0.418087</td>\n",
       "    </tr>\n",
       "    <tr>\n",
       "      <th>7</th>\n",
       "      <td>9</td>\n",
       "      <td>0.436181</td>\n",
       "    </tr>\n",
       "  </tbody>\n",
       "</table>\n",
       "</div>"
      ],
      "text/plain": [
       "   cluster       sco\n",
       "0        2  0.493727\n",
       "1        3  0.404853\n",
       "2        4  0.367341\n",
       "3        5  0.378767\n",
       "4        6  0.377287\n",
       "5        7  0.395732\n",
       "6        8  0.418087\n",
       "7        9  0.436181"
      ]
     },
     "execution_count": 39,
     "metadata": {},
     "output_type": "execute_result"
    }
   ],
   "source": [
    "from sklearn.cluster import KMeans\n",
    "from sklearn.metrics import silhouette_score\n",
    "\n",
    "df3= df.copy()\n",
    "\n",
    "df3_1 = df3[df3['enrollment_code'].str.contains('HS')]\n",
    "\n",
    "\n",
    "df3_1['gender'] = df3_1['gender'].apply(lambda x: 1 if x == 'F' else 0)\n",
    "df3_1\n",
    "# df3_2 = df3_1.loc[:,'gender':'penalty']\n",
    "df3_2 = df3_1.loc[:,['gender','bonus','penalty']]\n",
    "\n",
    "\n",
    "scores = []\n",
    "klist = []\n",
    "for k in range(2,10):\n",
    "  model = KMeans(n_clusters=k, random_state=229).fit(df3_2)\n",
    "  score = silhouette_score(df3_2, model.labels_)\n",
    "  scores.append(score)\n",
    "  klist.append(k)\n",
    "\n",
    "data = {'cluster':klist, 'sco': scores}\n",
    "df3_3 = pd.DataFrame(data)\n",
    "# df3_3.sort_values('sco', ascending=False)\n",
    "df3_3\n",
    "#print(scores)  \n",
    "  \n"
   ]
  },
  {
   "cell_type": "markdown",
   "id": "fbebe5d6",
   "metadata": {},
   "source": [
    "#### 필요 라이브러리 함수,클래스 및 설정값 목록  \n",
    "\n",
    "from sklearn.cluster import KMeans  \n",
    "from sklearn.metrics import silhouette_score  \n",
    "random_state = 229  \n",
    "문제 지시 외 Default 값 사용  "
   ]
  },
  {
   "cell_type": "code",
   "execution_count": null,
   "id": "ba1db2d3",
   "metadata": {},
   "outputs": [],
   "source": []
  }
 ],
 "metadata": {
  "kernelspec": {
   "display_name": "Python 3",
   "language": "python",
   "name": "python3"
  },
  "language_info": {
   "codemirror_mode": {
    "name": "ipython",
    "version": 3
   },
   "file_extension": ".py",
   "mimetype": "text/x-python",
   "name": "python",
   "nbconvert_exporter": "python",
   "pygments_lexer": "ipython3",
   "version": "3.10.13"
  }
 },
 "nbformat": 4,
 "nbformat_minor": 5
}
